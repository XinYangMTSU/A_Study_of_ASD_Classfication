{
 "cells": [
  {
   "cell_type": "markdown",
   "metadata": {},
   "source": [
    "# Prepare Data based on  Atlas and Connectivity"
   ]
  },
  {
   "cell_type": "code",
   "execution_count": null,
   "metadata": {},
   "outputs": [],
   "source": [
    "import warnings\n",
    "warnings.filterwarnings(\"ignore\")\n",
    "from nilearn.datasets import fetch_abide_pcp\n",
    "# Fetch the full data and update phenotypic data and cross_validation\n",
    "abide = fetch_abide_pcp(derivatives = ['rois_aal'], pipeline = 'cpac', quality_checked = True)\n",
    "y = abide.phenotypic['DX_GROUP']\n",
    "y[y == 2] = 0\n",
    "correlation = 'correlation'\n",
    "partial = 'partial correlation'\n",
    "tangent = 'tangent'\n"
   ]
  },
  {
   "cell_type": "markdown",
   "metadata": {},
   "source": [
    "# AAL"
   ]
  },
  {
   "cell_type": "code",
   "execution_count": null,
   "metadata": {},
   "outputs": [],
   "source": [
    "from nilearn.connectome import ConnectivityMeasure\n",
    "from nilearn.connectome import sym_matrix_to_vec\n",
    "\n",
    "## Correlation\n",
    "conn_est = ConnectivityMeasure(kind = correlation)\n",
    "conn_matrices = conn_est.fit_transform(abide.rois_aal)\n",
    "X_corr = sym_matrix_to_vec(conn_matrices)\n",
    "\n",
    "## Partial Correlation\n",
    "conn_est = ConnectivityMeasure(kind = partial)\n",
    "conn_matrices = conn_est.fit_transform(abide.rois_aal)\n",
    "X_part = sym_matrix_to_vec(conn_matrices)\n",
    "\n",
    "## Tangent\n",
    "conn_est = ConnectivityMeasure(kind = tangent)\n",
    "conn_matrices = conn_est.fit_transform(abide.rois_aal)\n",
    "X_tang = sym_matrix_to_vec(conn_matrices)\n",
    "\n",
    "## then you can use them directly or save them as follows\n",
    "#from numpy import savetxt\n",
    "#savetxt('AAL_X_corr.csv', X_corr, delimiter=',')\n",
    "#savetxt('AAL_X_part.csv', X_part, delimiter=',')\n",
    "#savetxt('AAL_X_tang.csv', X_tang, delimiter=',')"
   ]
  },
  {
   "cell_type": "code",
   "execution_count": null,
   "metadata": {},
   "outputs": [],
   "source": []
  }
 ],
 "metadata": {
  "kernelspec": {
   "display_name": "MTSU_Research",
   "language": "python",
   "name": "mtsu_research"
  },
  "language_info": {
   "codemirror_mode": {
    "name": "ipython",
    "version": 3
   },
   "file_extension": ".py",
   "mimetype": "text/x-python",
   "name": "python",
   "nbconvert_exporter": "python",
   "pygments_lexer": "ipython3",
   "version": "3.8.2"
  }
 },
 "nbformat": 4,
 "nbformat_minor": 4
}
